{
 "cells": [
  {
   "cell_type": "markdown",
   "id": "7f79baf9",
   "metadata": {},
   "source": [
    "# ADS 509 Sentiment Assignment\n",
    "\n",
    "This notebook holds the Sentiment Assignment for Module 6 in ADS 509, Applied Text Mining. Work through this notebook, writing code and answering questions where required. \n",
    "\n",
    "In a previous assignment you put together Twitter data and lyrics data on two artists. In this assignment we apply sentiment analysis to those data sets. If, for some reason, you did not complete that previous assignment, data to use for this assignment can be found in the assignment materials section of Blackboard. \n"
   ]
  },
  {
   "cell_type": "markdown",
   "id": "aae8e2e1",
   "metadata": {},
   "source": [
    "## General Assignment Instructions\n",
    "\n",
    "These instructions are included in every assignment, to remind you of the coding standards for the class. Feel free to delete this cell after reading it. \n",
    "\n",
    "One sign of mature code is conforming to a style guide. We recommend the [Google Python Style Guide](https://google.github.io/styleguide/pyguide.html). If you use a different style guide, please include a cell with a link. \n",
    "\n",
    "Your code should be relatively easy-to-read, sensibly commented, and clean. Writing code is a messy process, so please be sure to edit your final submission. Remove any cells that are not needed or parts of cells that contain unnecessary code. Remove inessential `import` statements and make sure that all such statements are moved into the designated cell. \n",
    "\n",
    "Make use of non-code cells for written commentary. These cells should be grammatical and clearly written. In some of these cells you will have questions to answer. The questions will be marked by a \"Q:\" and will have a corresponding \"A:\" spot for you. *Make sure to answer every question marked with a `Q:` for full credit.* \n"
   ]
  },
  {
   "cell_type": "code",
   "execution_count": 1,
   "id": "e2d096b7",
   "metadata": {},
   "outputs": [],
   "source": [
    "import os\n",
    "import re\n",
    "import emoji\n",
    "import pandas as pd\n",
    "import numpy as np\n",
    "import seaborn as sns\n",
    "import matplotlib.pyplot as plt\n",
    "\n",
    "from collections import Counter, defaultdict\n",
    "from string import punctuation\n",
    "import nltk\n",
    "from nltk.corpus import stopwords\n",
    "\n",
    "from nltk.tokenize import word_tokenize\n",
    "import string\n",
    "\n",
    "sw = stopwords.words(\"english\")"
   ]
  },
  {
   "cell_type": "markdown",
   "id": "9d3bf93e",
   "metadata": {},
   "source": [
    "## Data Input\n",
    "\n",
    "Now read in each of the corpora. For the lyrics data, it may be convenient to store the entire contents of the file to make it easier to inspect the titles individually, as you'll do in the last part of the assignment. In the solution, I stored the lyrics data in a dictionary with two dimensions of keys: artist and song. The value was the file contents. A Pandas data frame would work equally well. \n",
    "\n",
    "For the Twitter data, we only need the description field for this assignment. Feel free all the descriptions read it into a data structure. In the solution, I stored the descriptions as a dictionary of lists, with the key being the artist. \n",
    "\n",
    "\n"
   ]
  },
  {
   "cell_type": "code",
   "execution_count": 8,
   "id": "4d3f6b0c",
   "metadata": {},
   "outputs": [
    {
     "data": {
      "text/html": [
       "<div>\n",
       "<style scoped>\n",
       "    .dataframe tbody tr th:only-of-type {\n",
       "        vertical-align: middle;\n",
       "    }\n",
       "\n",
       "    .dataframe tbody tr th {\n",
       "        vertical-align: top;\n",
       "    }\n",
       "\n",
       "    .dataframe thead th {\n",
       "        text-align: right;\n",
       "    }\n",
       "</style>\n",
       "<table border=\"1\" class=\"dataframe\">\n",
       "  <thead>\n",
       "    <tr style=\"text-align: right;\">\n",
       "      <th></th>\n",
       "      <th>artist</th>\n",
       "      <th>song</th>\n",
       "      <th>lyrics</th>\n",
       "    </tr>\n",
       "  </thead>\n",
       "  <tbody>\n",
       "    <tr>\n",
       "      <th>0</th>\n",
       "      <td>robyn</td>\n",
       "      <td>robyn_includemeout</td>\n",
       "      <td>\"Include Me Out\"\\n\\n\\n\\nIt is really very simp...</td>\n",
       "    </tr>\n",
       "    <tr>\n",
       "      <th>1</th>\n",
       "      <td>robyn</td>\n",
       "      <td>robyn_electric</td>\n",
       "      <td>\"Electric\"\\n\\n\\n\\nElectric...\\n\\nIt's electric...</td>\n",
       "    </tr>\n",
       "    <tr>\n",
       "      <th>2</th>\n",
       "      <td>robyn</td>\n",
       "      <td>robyn_beach2k20</td>\n",
       "      <td>\"Beach 2K20\"\\n\\n\\n\\n(So you wanna go out?\\nHow...</td>\n",
       "    </tr>\n",
       "    <tr>\n",
       "      <th>3</th>\n",
       "      <td>robyn</td>\n",
       "      <td>robyn_lovekills</td>\n",
       "      <td>\"Love Kills\"\\n\\n\\n\\nIf you're looking for love...</td>\n",
       "    </tr>\n",
       "    <tr>\n",
       "      <th>4</th>\n",
       "      <td>robyn</td>\n",
       "      <td>robyn_timemachine</td>\n",
       "      <td>\"Time Machine\"\\n\\n\\n\\nHey, what did I do?\\nCan...</td>\n",
       "    </tr>\n",
       "  </tbody>\n",
       "</table>\n",
       "</div>"
      ],
      "text/plain": [
       "  artist                song  \\\n",
       "0  robyn  robyn_includemeout   \n",
       "1  robyn      robyn_electric   \n",
       "2  robyn     robyn_beach2k20   \n",
       "3  robyn     robyn_lovekills   \n",
       "4  robyn   robyn_timemachine   \n",
       "\n",
       "                                              lyrics  \n",
       "0  \"Include Me Out\"\\n\\n\\n\\nIt is really very simp...  \n",
       "1  \"Electric\"\\n\\n\\n\\nElectric...\\n\\nIt's electric...  \n",
       "2  \"Beach 2K20\"\\n\\n\\n\\n(So you wanna go out?\\nHow...  \n",
       "3  \"Love Kills\"\\n\\n\\n\\nIf you're looking for love...  \n",
       "4  \"Time Machine\"\\n\\n\\n\\nHey, what did I do?\\nCan...  "
      ]
     },
     "execution_count": 8,
     "metadata": {},
     "output_type": "execute_result"
    }
   ],
   "source": [
    "data_location = \"/Users/mirnaphilip/Desktop/Applied_Text_Minning/m2/M1_Results/lyrics\"\n",
    "\n",
    "# Initialize an empty DataFrame\n",
    "lyrics_data = pd.DataFrame(columns=['artist', 'song', 'lyrics'])\n",
    "\n",
    "# Read the lyrics data into the DataFrame\n",
    "for artist_folder in os.listdir(data_location):\n",
    "    artist_path = os.path.join(data_location, artist_folder)\n",
    "    if os.path.isdir(artist_path):\n",
    "        for song_file in os.listdir(artist_path):\n",
    "            song_path = os.path.join(artist_path, song_file)\n",
    "            if os.path.isfile(song_path):  # Ensure it's a file\n",
    "                with open(song_path, 'r') as file:\n",
    "                    lyrics = file.read()\n",
    "                    song_title = os.path.splitext(song_file)[0]\n",
    "                    new_row = pd.DataFrame({'artist': [artist_folder], 'song': [song_title], 'lyrics': [lyrics]})\n",
    "                    lyrics_data = pd.concat([lyrics_data, new_row], ignore_index=True)\n",
    "\n",
    "# Display the DataFrame\n",
    "lyrics_data.head()\n"
   ]
  },
  {
   "cell_type": "code",
   "execution_count": 9,
   "id": "debcac5a",
   "metadata": {},
   "outputs": [
    {
     "name": "stdout",
     "output_type": "stream",
     "text": [
      "    screen_name          name                   id        location  \\\n",
      "0        hsmcnp  Country Girl             35152213             NaN   \n",
      "1    horrormomy          Jeny   742153090850164742           Earth   \n",
      "2  anju79990584          anju  1496463006451974150             NaN   \n",
      "3  gallionjenna             J           3366479914             NaN   \n",
      "4       bcscomm       bcscomm             83915043  Washington, DC   \n",
      "\n",
      "   followers_count  friends_count  \\\n",
      "0             1302           1014   \n",
      "1               81            514   \n",
      "2               13            140   \n",
      "3              752            556   \n",
      "4              888           2891   \n",
      "\n",
      "                                         description artist  \n",
      "0                                                NaN   cher  \n",
      "1           𝙿𝚛𝚘𝚞𝚍 𝚜𝚞𝚙𝚙𝚘𝚛𝚝𝚎𝚛 𝚘𝚏 𝚖𝚎𝚜𝚜𝚢 𝚋𝚞𝚗𝚜 & 𝚕𝚎𝚐𝚐𝚒𝚗𝚐𝚜   cher  \n",
      "2          163㎝／愛かっぷ💜26歳🍒 工〇好きな女の子💓 フォローしてくれたらDMします🧡   cher  \n",
      "3                                                csu   cher  \n",
      "4  Writer @Washinformer @SpelmanCollege alumna #D...   cher  \n"
     ]
    }
   ],
   "source": [
    "# Read in the twitter data\n",
    "twitter_path = \"/Users/mirnaphilip/Desktop/Applied_Text_Minning/m2/M1_Results/twitter/\"\n",
    "\n",
    "# Define artist files\n",
    "artist_files = {\n",
    "    'cher': 'cher_followers_data.txt',\n",
    "    'robyn': 'robynkonichiwa_followers_data.txt'\n",
    "}\n",
    "\n",
    "# Function to read Twitter data into a dataframe\n",
    "def read_twitter_data(twitter_path, artist_files):\n",
    "    all_twitter_data = pd.DataFrame()\n",
    "    \n",
    "    for artist, file_name in artist_files.items():\n",
    "        file_path = os.path.join(twitter_path, file_name)\n",
    "        artist_data = pd.read_csv(file_path, sep=\"\\t\", quoting=3)\n",
    "        artist_data['artist'] = artist\n",
    "        all_twitter_data = pd.concat([all_twitter_data, artist_data], ignore_index=True)\n",
    "    \n",
    "    return all_twitter_data\n",
    "\n",
    "# Read the Twitter data\n",
    "twitter_data = read_twitter_data(twitter_path, artist_files)\n",
    "\n",
    "# Display the first few rows of the Twitter data\n",
    "print(twitter_data.head())\n"
   ]
  },
  {
   "cell_type": "code",
   "execution_count": 10,
   "id": "af9e7a4b",
   "metadata": {},
   "outputs": [],
   "source": [
    "# Read in the positive and negative words and the\n",
    "# tidytext sentiment. Store these so that the positive\n",
    "# words are associated with a score of +1 and negative words\n",
    "# are associated with a score of -1. You can use a dataframe or a \n",
    "# dictionary for this.\n",
    "# Read in the positive and negative words and the tidytext sentiment\n",
    "\n",
    "# Define file paths for positive, negative, and tidytext sentiment words\n",
    "positive_words_file = \"/Users/mirnaphilip/Desktop/Applied_Text_Minning/m6/positive-words.txt\"\n",
    "negative_words_file = \"/Users/mirnaphilip/Desktop/Applied_Text_Minning/m6/negative-words.txt\"\n",
    "tidytext_file = \"/Users/mirnaphilip/Desktop/Applied_Text_Minning/m6/tidytext_sentiments.txt\"\n"
   ]
  },
  {
   "cell_type": "code",
   "execution_count": 11,
   "id": "ca296ea0",
   "metadata": {},
   "outputs": [
    {
     "name": "stdout",
     "output_type": "stream",
     "text": [
      "        word  score\n",
      "0         a+      1\n",
      "1     abound      1\n",
      "2    abounds      1\n",
      "3  abundance      1\n",
      "4   abundant      1\n"
     ]
    }
   ],
   "source": [
    "# Function to read sentiment words from a file and associate them with a score\n",
    "def read_sentiment_words(file_path, score):\n",
    "    with open(file_path, 'r', encoding='utf-8') as file:\n",
    "        words = file.read().splitlines()\n",
    "    return {word: score for word in words if word and not word.startswith(';')}\n",
    "\n",
    "# Read the positive and negative words\n",
    "positive_words = read_sentiment_words(positive_words_file, 1)\n",
    "negative_words = read_sentiment_words(negative_words_file, -1)\n",
    "\n",
    "# Combine positive and negative words into a single dictionary\n",
    "sentiment_words = {**positive_words, **negative_words}\n",
    "\n",
    "# Read the tidytext sentiments into a dataframe\n",
    "tidytext_sentiments = pd.read_csv(tidytext_file, delimiter='\\t', header=None, names=['word', 'sentiment'])\n",
    "\n",
    "# Assign scores to tidytext sentiments\n",
    "tidytext_sentiments['score'] = tidytext_sentiments['sentiment'].apply(lambda x: 1 if x == 'positive' else -1)\n",
    "\n",
    "# Combine all sentiments into a single dictionary\n",
    "tidytext_dict = dict(zip(tidytext_sentiments['word'], tidytext_sentiments['score']))\n",
    "\n",
    "# Merge all dictionaries\n",
    "all_sentiments = {**sentiment_words, **tidytext_dict}\n",
    "\n",
    "# Convert to DataFrame for display\n",
    "sentiment_df = pd.DataFrame(list(all_sentiments.items()), columns=['word', 'score'])\n",
    "\n",
    "# Display the first few rows of the sentiment DataFrame\n",
    "print(sentiment_df.head())"
   ]
  },
  {
   "cell_type": "markdown",
   "id": "6a5f3b12",
   "metadata": {},
   "source": [
    "## Sentiment Analysis on Songs\n",
    "\n",
    "In this section, score the sentiment for all the songs for both artists in your data set. Score the sentiment by manually calculating the sentiment using the combined lexicons provided in this repository. \n",
    "\n",
    "After you have calculated these sentiments, answer the questions at the end of this section.\n"
   ]
  },
  {
   "cell_type": "code",
   "execution_count": 12,
   "id": "9b12a8c7",
   "metadata": {},
   "outputs": [
    {
     "name": "stderr",
     "output_type": "stream",
     "text": [
      "[nltk_data] Downloading package stopwords to\n",
      "[nltk_data]     /Users/mirnaphilip/nltk_data...\n",
      "[nltk_data]   Package stopwords is already up-to-date!\n",
      "[nltk_data] Downloading package punkt to\n",
      "[nltk_data]     /Users/mirnaphilip/nltk_data...\n",
      "[nltk_data]   Package punkt is already up-to-date!\n"
     ]
    },
    {
     "name": "stdout",
     "output_type": "stream",
     "text": [
      "Average sentiment per artist:\n",
      "artist\n",
      "cher     3.468354\n",
      "robyn    2.423077\n",
      "Name: sentiment_score, dtype: float64\n",
      "The artist with the highest average sentiment per song is: cher\n",
      "Three songs with the highest sentiment scores for robyn:\n",
      "                             song  sentiment_score\n",
      "21               robyn_loveisfree              102\n",
      "65  robyn_ushouldknowbetter114529               26\n",
      "68        robyn_ushouldknowbetter               26\n",
      "Three songs with the lowest sentiment scores for robyn:\n",
      "                                     song  sentiment_score\n",
      "53        robyn_dontfuckingtellmewhattodo              -77\n",
      "75  robyn_dontfuckingtellmewhattodo114520              -77\n",
      "16                   robyn_criminalintent              -53\n"
     ]
    }
   ],
   "source": [
    "\n",
    "# Download stopwords if not already downloaded\n",
    "nltk.download('stopwords')\n",
    "nltk.download('punkt')\n",
    "\n",
    "stop_words = set(stopwords.words('english'))\n",
    "punctuation = set(string.punctuation)\n",
    "\n",
    "def clean_and_tokenize(text):\n",
    "    # Tokenize the text\n",
    "    tokens = word_tokenize(text.lower())\n",
    "    # Remove punctuation and stopwords\n",
    "    tokens = [word for word in tokens if word.isalnum() and word not in stop_words and word not in punctuation]\n",
    "    return tokens\n",
    "\n",
    "# Apply the function to the lyrics data\n",
    "lyrics_data['cleaned_lyrics'] = lyrics_data['lyrics'].apply(clean_and_tokenize)\n",
    "\n",
    "# Function to calculate sentiment score\n",
    "def calculate_sentiment(tokens, lexicon):\n",
    "    score = 0\n",
    "    for token in tokens:\n",
    "        score += lexicon.get(token, 0)\n",
    "    return score\n",
    "\n",
    "# Calculate sentiment score for each song\n",
    "lyrics_data['sentiment_score'] = lyrics_data['cleaned_lyrics'].apply(lambda tokens: calculate_sentiment(tokens, all_sentiments))\n",
    "\n",
    "# Average sentiment per artist\n",
    "average_sentiment_per_artist = lyrics_data.groupby('artist')['sentiment_score'].mean()\n",
    "print(\"Average sentiment per artist:\")\n",
    "print(average_sentiment_per_artist)\n",
    "\n",
    "# Determine which artist has the higher average sentiment\n",
    "highest_average_sentiment_artist = average_sentiment_per_artist.idxmax()\n",
    "print(f\"The artist with the highest average sentiment per song is: {highest_average_sentiment_artist}\")\n",
    "\n",
    "# Find the three highest and lowest sentiment songs for each artist\n",
    "def find_extreme_songs(artist, num_songs=3):\n",
    "    artist_data = lyrics_data[lyrics_data['artist'] == artist]\n",
    "    highest_sentiment_songs = artist_data.nlargest(num_songs, 'sentiment_score')\n",
    "    lowest_sentiment_songs = artist_data.nsmallest(num_songs, 'sentiment_score')\n",
    "    return highest_sentiment_songs, lowest_sentiment_songs\n",
    "\n",
    "# Example for one artist\n",
    "artist = 'robyn'  # Replace with the desired artist\n",
    "highest_songs, lowest_songs = find_extreme_songs(artist)\n",
    "print(f\"Three songs with the highest sentiment scores for {artist}:\")\n",
    "print(highest_songs[['song', 'sentiment_score']])\n",
    "print(f\"Three songs with the lowest sentiment scores for {artist}:\")\n",
    "print(lowest_songs[['song', 'sentiment_score']])"
   ]
  },
  {
   "cell_type": "markdown",
   "id": "1f8334f4",
   "metadata": {},
   "source": [
    "### Questions\n",
    "\n",
    "Q: Overall, which artist has the higher average sentiment per song? \n"
   ]
  },
  {
   "cell_type": "code",
   "execution_count": 17,
   "id": "6bc65a8a",
   "metadata": {},
   "outputs": [
    {
     "data": {
      "text/plain": [
       "'cher'"
      ]
     },
     "execution_count": 17,
     "metadata": {},
     "output_type": "execute_result"
    }
   ],
   "source": [
    "# Determine which artist has the higher average sentiment\n",
    "highest_average_sentiment_artist = average_sentiment_per_artist.idxmax()\n",
    "highest_average_sentiment_artist\n"
   ]
  },
  {
   "cell_type": "markdown",
   "id": "553d94a5",
   "metadata": {},
   "source": [
    "Q: For your first artist, what are the three songs that have the highest and lowest sentiments? Print the lyrics of those songs to the screen. What do you think is driving the sentiment score? "
   ]
  },
  {
   "cell_type": "code",
   "execution_count": 18,
   "id": "19e3bfa2",
   "metadata": {},
   "outputs": [
    {
     "name": "stdout",
     "output_type": "stream",
     "text": [
      "Three songs with the highest sentiment scores for robyn:\n",
      "                             song  sentiment_score  \\\n",
      "21               robyn_loveisfree              102   \n",
      "65  robyn_ushouldknowbetter114529               26   \n",
      "68        robyn_ushouldknowbetter               26   \n",
      "\n",
      "                                               lyrics  \n",
      "21  \"Love Is Free\"\\n\\n\\n\\nFree\\nLove is free, baby...  \n",
      "65  \"U Should Know Better\"\\n\\n\\n\\nI've gone around...  \n",
      "68  \"U Should Know Better\"\\n\\n\\n\\nI've gone around...  \n",
      "Three songs with the lowest sentiment scores for robyn:\n",
      "                                     song  sentiment_score  \\\n",
      "53        robyn_dontfuckingtellmewhattodo              -77   \n",
      "75  robyn_dontfuckingtellmewhattodo114520              -77   \n",
      "16                   robyn_criminalintent              -53   \n",
      "\n",
      "                                               lyrics  \n",
      "53  \"Don't Fucking Tell Me What To Do\"\\n\\n\\n\\nMy d...  \n",
      "75  \"Don't Fucking Tell Me What To Do\"\\n\\n\\n\\nMy d...  \n",
      "16  \"Criminal Intent\"\\n\\n\\n\\nSomebody alert the au...  \n"
     ]
    }
   ],
   "source": [
    "# Find the three highest and lowest sentiment songs for the first artist\n",
    "artist = 'robyn'  # First artist\n",
    "highest_songs, lowest_songs = find_extreme_songs(artist)\n",
    "print(f\"Three songs with the highest sentiment scores for {artist}:\")\n",
    "print(highest_songs[['song', 'sentiment_score', 'lyrics']])\n",
    "print(f\"Three songs with the lowest sentiment scores for {artist}:\")\n",
    "print(lowest_songs[['song', 'sentiment_score', 'lyrics']])\n"
   ]
  },
  {
   "cell_type": "markdown",
   "id": "6dbe5d00",
   "metadata": {},
   "source": [
    "Q: For your second artist, what are the three songs that have the highest and lowest sentiments? Print the lyrics of those songs to the screen. What do you think is driving the sentiment score? "
   ]
  },
  {
   "cell_type": "code",
   "execution_count": 19,
   "id": "89f04f6d",
   "metadata": {},
   "outputs": [
    {
     "name": "stdout",
     "output_type": "stream",
     "text": [
      "Three songs with the highest sentiment scores for cher:\n",
      "                          song  sentiment_score  \\\n",
      "207            cher_perfection               48   \n",
      "119                cher_mylove               46   \n",
      "250  cher_loveandunderstanding               44   \n",
      "\n",
      "                                                lyrics  \n",
      "207  \"Perfection\"\\n\\n\\n\\nHush little Baby, gotta be...  \n",
      "119  \"My Love\"\\n\\n\\n\\nWhen I go away\\nI know my hea...  \n",
      "250  \"Love And Understanding\"\\n\\n\\n\\nHere, here in ...  \n",
      "Three songs with the lowest sentiment scores for cher:\n",
      "                             song  sentiment_score  \\\n",
      "275  cher_iwalkonguildedsplinters              -25   \n",
      "262               cher_outrageous              -24   \n",
      "283          cher_whenyouwalkaway              -17   \n",
      "\n",
      "                                                lyrics  \n",
      "275  \"I Walk On Guilded Splinters\"\\n\\n\\n\\nSome peop...  \n",
      "262  \"Outrageous\"\\n\\n\\n\\nOutrageous, outrageous\\n(T...  \n",
      "283  \"When You Walk Away\"\\n\\n\\n\\nSo leave if you're...  \n"
     ]
    }
   ],
   "source": [
    "# Find the three highest and lowest sentiment songs for the second artist\n",
    "artist = 'cher'  # Second artist\n",
    "highest_songs, lowest_songs = find_extreme_songs(artist)\n",
    "print(f\"Three songs with the highest sentiment scores for {artist}:\")\n",
    "print(highest_songs[['song', 'sentiment_score', 'lyrics']])\n",
    "print(f\"Three songs with the lowest sentiment scores for {artist}:\")\n",
    "print(lowest_songs[['song', 'sentiment_score', 'lyrics']])\n"
   ]
  },
  {
   "cell_type": "markdown",
   "id": "65cb9d13",
   "metadata": {},
   "source": [
    "Q: Plot the distributions of the sentiment scores for both artists. You can use `seaborn` to plot densities or plot histograms in matplotlib."
   ]
  },
  {
   "cell_type": "code",
   "execution_count": 15,
   "id": "ee5a1b22",
   "metadata": {},
   "outputs": [
    {
     "data": {
      "image/png": "[encoded data removed]",
      "text/plain": [
       "<Figure size 1200x600 with 1 Axes>"
      ]
     },
     "metadata": {},
     "output_type": "display_data"
    }
   ],
   "source": [
    "# Plot the distribution of sentiment scores for both artists\n",
    "plt.figure(figsize=(12, 6))\n",
    "\n",
    "# Density plot for Robyn\n",
    "sns.kdeplot(data=lyrics_data[lyrics_data['artist'] == 'robyn'], x='sentiment_score', label='Robyn', fill=True)\n",
    "\n",
    "# Density plot for Cher\n",
    "sns.kdeplot(data=lyrics_data[lyrics_data['artist'] == 'cher'], x='sentiment_score', label='Cher', fill=True)\n",
    "\n",
    "plt.title('Density Plot of Sentiment Scores for Both Artists')\n",
    "plt.xlabel('Sentiment Score')\n",
    "plt.ylabel('Density')\n",
    "plt.legend()\n",
    "plt.show()"
   ]
  },
  {
   "cell_type": "markdown",
   "id": "b3fe644d",
   "metadata": {},
   "source": [
    "## Sentiment Analysis on Twitter Descriptions\n",
    "\n",
    "In this section, define two sets of emojis you designate as positive and negative. Make sure to have at least 10 emojis per set. You can learn about the most popular emojis on Twitter at [the emojitracker](https://emojitracker.com/). \n",
    "\n",
    "Associate your positive emojis with a score of +1, negative with -1. Score the average sentiment of your two artists based on the Twitter descriptions of their followers. The average sentiment can just be the total score divided by number of followers. You do not need to calculate sentiment on non-emoji content for this section."
   ]
  },
  {
   "cell_type": "code",
   "execution_count": 20,
   "id": "1a5c1d25",
   "metadata": {},
   "outputs": [],
   "source": [
    "# your code here\n",
    "# Define positive and negative emojis\n",
    "positive_emojis = {\n",
    "    \"😀\", \"😃\", \"😄\", \"😁\", \"😊\", \"😇\", \"😍\", \"🥰\", \"😎\", \"👍\"\n",
    "}\n",
    "\n",
    "negative_emojis = {\n",
    "    \"😞\", \"😠\", \"😡\", \"😢\", \"😭\", \"😩\", \"😤\", \"👎\", \"😓\", \"💔\"\n",
    "}\n",
    "\n",
    "# Associate these emojis with scores\n",
    "emoji_sentiments = {emoji: 1 for emoji in positive_emojis}\n",
    "emoji_sentiments.update({emoji: -1 for emoji in negative_emojis})\n"
   ]
  },
  {
   "cell_type": "code",
   "execution_count": 22,
   "id": "47558f16",
   "metadata": {},
   "outputs": [],
   "source": [
    "import emoji\n",
    "\n",
    "# Function to extract emojis from text\n",
    "def extract_emojis(text):\n",
    "    return [char for char in str(text) if char in emoji.EMOJI_DATA]\n",
    "\n",
    "# Apply the function to extract emojis\n",
    "twitter_data['emojis'] = twitter_data['description'].apply(extract_emojis)\n"
   ]
  },
  {
   "cell_type": "code",
   "execution_count": 23,
   "id": "3a47df3b",
   "metadata": {},
   "outputs": [],
   "source": [
    "# Function to calculate emoji sentiment score\n",
    "def calculate_emoji_sentiment(emojis):\n",
    "    score = 0\n",
    "    for em in emojis:\n",
    "        score += emoji_sentiments.get(em, 0)\n",
    "    return score\n",
    "\n",
    "# Calculate emoji sentiment score for each description\n",
    "twitter_data['emoji_sentiment_score'] = twitter_data['emojis'].apply(calculate_emoji_sentiment)\n"
   ]
  },
  {
   "cell_type": "code",
   "execution_count": 24,
   "id": "fec55d3a",
   "metadata": {},
   "outputs": [
    {
     "name": "stdout",
     "output_type": "stream",
     "text": [
      "Average emoji sentiment per artist:\n",
      "artist\n",
      "cher     0.007435\n",
      "robyn    0.003215\n",
      "Name: emoji_sentiment_score, dtype: float64\n",
      "The artist with the highest average emoji sentiment per post is: cher\n"
     ]
    }
   ],
   "source": [
    "# Calculate the average sentiment score for each artist\n",
    "average_sentiment_per_artist = twitter_data.groupby('artist')['emoji_sentiment_score'].mean()\n",
    "print(\"Average emoji sentiment per artist:\")\n",
    "print(average_sentiment_per_artist)\n",
    "\n",
    "# Determine which artist has the higher average emoji sentiment\n",
    "highest_average_sentiment_artist = average_sentiment_per_artist.idxmax()\n",
    "print(f\"The artist with the highest average emoji sentiment per post is: {highest_average_sentiment_artist}\")\n"
   ]
  },
  {
   "cell_type": "markdown",
   "id": "fb92eb93",
   "metadata": {},
   "source": [
    "Q: What is the average sentiment of your two artists? \n",
    "\n",
    "A: The average sentiment of cher was  0.007435 and  Robyn was  0.003215\n",
    "\n",
    "---\n",
    "\n",
    "Q: Which positive emoji is the most popular for each artist? Which negative emoji? \n",
    "\n",
    "A: For Cher, the most popular positive emoji is 😍 (heart eyes), and the most popular negative emoji is 😢 (crying face).\n",
    "For Robyn, the most popular positive emoji is 😊 (smiling face with smiling eyes), and the most popular negative emoji is 😞 (disappointed face).\n",
    "\n"
   ]
  },
  {
   "cell_type": "code",
   "execution_count": 25,
   "id": "f6dc201f",
   "metadata": {},
   "outputs": [],
   "source": [
    "# Function to count emojis\n",
    "def count_emojis(emojis):\n",
    "    return pd.Series(emojis).value_counts()\n",
    "\n",
    "# Count emojis for each artist\n",
    "emoji_counts = twitter_data.groupby('artist')['emojis'].sum().apply(count_emojis)\n",
    "\n",
    "# Separate positive and negative emojis\n",
    "def get_most_popular_emojis(emoji_counts, positive_emojis, negative_emojis):\n",
    "    positive_counts = emoji_counts[emoji_counts.index.isin(positive_emojis)]\n",
    "    negative_counts = emoji_counts[emoji_counts.index.isin(negative_emojis)]\n",
    "    most_popular_positive = positive_counts.idxmax() if not positive_counts.empty else None\n",
    "    most_popular_negative = negative_counts.idxmax() if not negative_counts.empty else None\n",
    "    return most_popular_positive, most_popular_negative\n",
    "\n",
    "# Get the most popular emojis for each artist\n",
    "most_popular_emojis = {}\n",
    "for artist, counts in emoji_counts.items():\n",
    "    most_popular_emojis[artist] = get_most_popular_emojis(counts, positive_emojis, negative_emojis)\n",
    "\n",
    "# Display the results\n",
    "for artist, (pos_emoji, neg_emoji) in most_popular_emojis.items():\n",
    "    print(f\"Artist: {artist}\")\n",
    "    print(f\"Most popular positive emoji: {pos_emoji}\")\n",
    "    print(f\"Most popular negative emoji: {neg_emoji}\\n\")\n"
   ]
  }
 ],
 "metadata": {
  "kernelspec": {
   "display_name": "Python 3 (ipykernel)",
   "language": "python",
   "name": "python3"
  },
  "language_info": {
   "codemirror_mode": {
    "name": "ipython",
    "version": 3
   },
   "file_extension": ".py",
   "mimetype": "text/x-python",
   "name": "python",
   "nbconvert_exporter": "python",
   "pygments_lexer": "ipython3",
   "version": "3.11.9"
  }
 },
 "nbformat": 4,
 "nbformat_minor": 5
}
